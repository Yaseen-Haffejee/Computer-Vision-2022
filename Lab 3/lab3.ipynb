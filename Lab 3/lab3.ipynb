{
 "cells": [
  {
   "cell_type": "markdown",
   "metadata": {},
   "source": [
    "# Importing Libraries"
   ]
  },
  {
   "cell_type": "code",
   "execution_count": 70,
   "metadata": {},
   "outputs": [],
   "source": [
    "import numpy as np\n",
    "import matplotlib.pyplot as plt\n",
    "import cv2 as cv\n",
    "from skimage import color\n",
    "from scipy.stats import multivariate_normal\n",
    "from Lab2 import MR8_set,add_img_to_features"
   ]
  },
  {
   "cell_type": "markdown",
   "metadata": {},
   "source": [
    "# 1) Principal Component Analysis"
   ]
  },
  {
   "cell_type": "markdown",
   "metadata": {},
   "source": [
    "## 1.1)\n",
    " Read in your training image as an RGB image. Convert your training image to HSV and apply\n",
    "the MR8 filter bank to both the RGB and HSV image. This should give you 54 features (3\n",
    "from the RGB and HSV channels respectively, as well as the output of the 8 MR8 filters applied\n",
    "to each image channel). Before we will create our classifier we are first going to reduce the\n",
    "dimensionality of our features."
   ]
  },
  {
   "cell_type": "code",
   "execution_count": 31,
   "metadata": {},
   "outputs": [
    {
     "name": "stdout",
     "output_type": "stream",
     "text": [
      "The shape of the feature vector is: (54, 270000)\n"
     ]
    }
   ],
   "source": [
    "train_image = plt.imread(\"./images/image-110.jpg\")\n",
    "train_image_hsv = color.rgb2hsv(train_image)\n",
    "validation_image = plt.imread(\"./images/image-83.jpg\")\n",
    "validation_image_hsv = color.rgb2hsv(validation_image)\n",
    "test_image = plt.imread(\"./images/image-35.jpg\")\n",
    "test_image_hsv = color.rgb2hsv(test_image)\n",
    "\n",
    "features = []\n",
    "mr8_rgb = MR8_set(train_image,size=49)\n",
    "mr8_hsv = MR8_set(train_image_hsv,size=49)\n",
    "\n",
    "features =  add_img_to_features(train_image,features)\n",
    "features =  add_img_to_features(train_image_hsv,features)\n",
    "\n",
    "for i in range(3):\n",
    "    for j in range(3):\n",
    "        if i == 2 and j == 2:\n",
    "            continue\n",
    "        features =  add_img_to_features(mr8_rgb[i][j],features)\n",
    "        features =  add_img_to_features(mr8_hsv[i][j],features)\n",
    "\n",
    "features = np.array(features)\n",
    "print(f'The shape of the feature vector is: {np.shape(features)}')\n"
   ]
  },
  {
   "cell_type": "markdown",
   "metadata": {},
   "source": [
    "## 1.2) \n",
    "For your training image, calculate the covariance of the features using all of the pixels (remember\n",
    "to flatten the length and width of the image)."
   ]
  },
  {
   "cell_type": "code",
   "execution_count": 32,
   "metadata": {},
   "outputs": [],
   "source": [
    "cov_train = np.cov(features)"
   ]
  },
  {
   "cell_type": "markdown",
   "metadata": {},
   "source": [
    "## 1.3)\n",
    "Calculate the eigenvectors of the covariance matrix from Question 2. Hint: np.linalg.eigh(·)\n",
    "(this function returns your eigenvectors is ascending order with the columns being the eigen-\n",
    "vectors. So you first principal component will be at eig_vecs[:,-1]. You may want to have\n",
    "your eigenvectors in descending order. For this use np.flip(eig_vecs, axis=1))."
   ]
  },
  {
   "cell_type": "code",
   "execution_count": 33,
   "metadata": {},
   "outputs": [],
   "source": [
    "eig_vectors = np.linalg.eigh(cov_train)[1]\n",
    "eig_vectors = np.fliplr(eig_vectors)"
   ]
  },
  {
   "cell_type": "markdown",
   "metadata": {},
   "source": [
    "## 1.4) \n",
    "Make sure that you now have the eigenvectors in a matrix with each column as an eigenvector\n",
    "(principal component) with the eigenvectors in descending order (the eigenvector corresponding\n",
    "to the largest eigenvalue must be in the first column). Use X̂ = X · E0:n where X is your P × 54\n",
    "matrix containing the P pixels with 54 features, E0:n is your (54 × n) matrix of eigenvectors\n",
    "using only the first n columns, X̂ is pixels after the dimensionality reduction and · denotes\n",
    "matrix multiplication. n determines the number of principal components we use and can be set\n",
    "to n = 3 to start. Note that for X̂ = X · E0:n we are multiplying a (P × 54) matrix with a (54 × n)\n",
    "matrix and so we have X̂ as a (P × n) matrix where n is also the new number of features."
   ]
  },
  {
   "cell_type": "code",
   "execution_count": 40,
   "metadata": {},
   "outputs": [],
   "source": [
    "def reduce_dimension(features,eigenvectors,n):\n",
    "    x_hat = np.matmul(features,eigenvectors[:,:n])\n",
    "    return x_hat"
   ]
  },
  {
   "cell_type": "code",
   "execution_count": 51,
   "metadata": {},
   "outputs": [
    {
     "name": "stdout",
     "output_type": "stream",
     "text": [
      "The shape of the reduced feature vector is: (270000, 3)\n"
     ]
    }
   ],
   "source": [
    "## Using \n",
    "reduced_features = reduce_dimension(features.T,eig_vectors,3)\n",
    "\n",
    "print(f'The shape of the reduced feature vector is: {np.shape(reduced_features)}')"
   ]
  },
  {
   "cell_type": "markdown",
   "metadata": {},
   "source": [
    "# 2) Including a Foreground Distribution"
   ]
  },
  {
   "cell_type": "markdown",
   "metadata": {},
   "source": [
    "# 2.1) \n",
    "Using the mask for your training data, separate your pixels from the output of Question 1 (the\n",
    "output image from the dimensionality reduction) into the foreground and background pixels."
   ]
  },
  {
   "cell_type": "code",
   "execution_count": 63,
   "metadata": {},
   "outputs": [],
   "source": [
    "train_mask = plt.imread(\"./images/mask-110.png\")\n",
    "train_mask =  cv.cvtColor(train_mask,cv.COLOR_RGBA2GRAY)\n",
    "\n",
    "background_indices = np.where(train_mask.flatten() == 0)\n",
    "puzzle_indices = np.where(train_mask.flatten() != 0)\n",
    "\n",
    "background_pixels = reduced_features[background_indices[0]]\n",
    "foreground_pixels  = reduced_features[puzzle_indices[0]]"
   ]
  },
  {
   "cell_type": "markdown",
   "metadata": {},
   "source": [
    "# 2.2) \n",
    "Compute the mean (µ) and covariance matrix (Σ) for both the foreground (µf , Σf ) and back-\n",
    "ground (µb , Σb ) pixels. Remember that the mean and covariance matrix are the parameters of\n",
    "a normal distribution, P (X|µb , Σb ), which tells us the likelihood of seeing a specific set of fea-\n",
    "tures, X, for a pixel given that it is a background pixel. We can consider another similar model\n",
    "P (X|µf , Σf ), which tells us the likelihood of seeing a specific set of features, X, for a pixel given\n",
    "that is in the foreground. For now, we will use multivariate normal distributions for both models."
   ]
  },
  {
   "cell_type": "code",
   "execution_count": 66,
   "metadata": {},
   "outputs": [],
   "source": [
    "mean_background = np.mean(background_pixels.T,axis=1)\n",
    "covariance_background = np.cov(background_pixels.T)\n",
    "\n",
    "mean_foreground = np.mean(foreground_pixels.T,axis=1)\n",
    "covariance_foreground = np.cov(foreground_pixels.T)"
   ]
  },
  {
   "cell_type": "code",
   "execution_count": 71,
   "metadata": {},
   "outputs": [],
   "source": [
    "background_distribution = multivariate_normal(mean= mean_background, cov= covariance_background)\n",
    "\n",
    "foreground_distribution = multivariate_normal(mean = mean_foreground, cov = covariance_foreground)"
   ]
  },
  {
   "cell_type": "markdown",
   "metadata": {},
   "source": [
    "# 2.3) \n",
    "For your validation image, calculate the 54 original features and project this onto the n principal\n",
    "components from Section 1 using V̂ = V · E0:n where V is the validation image’s pixels and V̂\n",
    "is the dimensionality reduced validation image. Note that we still use the principal components\n",
    "from our training data for the projection."
   ]
  },
  {
   "cell_type": "code",
   "execution_count": 72,
   "metadata": {},
   "outputs": [
    {
     "name": "stdout",
     "output_type": "stream",
     "text": [
      "The shape of the feature vector is: (54, 270000)\n"
     ]
    }
   ],
   "source": [
    "validation_features = []\n",
    "mr8_rgb = MR8_set(validation_image,size=49)\n",
    "mr8_hsv = MR8_set(validation_image_hsv,size=49)\n",
    "\n",
    "validation_features =  add_img_to_features(validation_image,validation_features)\n",
    "validation_features =  add_img_to_features(validation_image_hsv,validation_features)\n",
    "\n",
    "for i in range(3):\n",
    "    for j in range(3):\n",
    "        if i == 2 and j == 2:\n",
    "            continue\n",
    "        validation_features =  add_img_to_features(mr8_rgb[i][j],validation_features)\n",
    "        validation_features =  add_img_to_features(mr8_hsv[i][j],validation_features)\n",
    "\n",
    "validation_features = np.array(validation_features)\n",
    "print(f'The shape of the feature vector is: {np.shape(validation_features)}')"
   ]
  },
  {
   "cell_type": "code",
   "execution_count": 74,
   "metadata": {},
   "outputs": [],
   "source": [
    "validation_reduced_features = reduce_dimension(validation_features.T,eigenvectors=eig_vectors,n=3)"
   ]
  },
  {
   "cell_type": "markdown",
   "metadata": {},
   "source": [
    "# 2.4) \n",
    "Now infer the probability density (i.e. evaluate the probability density function) for each pixel’s\n",
    "reduced dimensional representations. This indicates the probability of seeing these features\n",
    "given that it is a background or foreground pixel. For the foreground and background models,\n",
    "separately use the means and variances found in Question 2."
   ]
  },
  {
   "cell_type": "code",
   "execution_count": 76,
   "metadata": {},
   "outputs": [],
   "source": [
    "## Getting PDF using background distribution\n",
    "valid_bg_pdf = background_distribution.pdf(validation_reduced_features)\n",
    "\n",
    "## Getting PDF using foreground distribution\n",
    "valid_fg_pdf = foreground_distribution.pdf(validation_reduced_features)"
   ]
  },
  {
   "cell_type": "markdown",
   "metadata": {},
   "source": [
    "# 2.5)\n",
    "For each pixel in the validation image compute the value of\n",
    "$C= \\frac {P (X|µb , Σb )}{ P (X|µf , Σf ) + P (X|µb , Σb )}$\n",
    "Note that (P (X|µf , Σf ) + P (X|µb , Σb )) normalizes the likelihood P (X|µb , Σb ) so that it gives the\n",
    "probability of X being a background pixel, given the training data that we have seen. If C ≥ 0.5\n",
    "classify it as a background pixel, else classify it as a foreground pixel. Does your model achieve\n",
    "better accuracy than when you just used a distribution for the background pixels with the 54\n",
    "features?"
   ]
  },
  {
   "cell_type": "code",
   "execution_count": 85,
   "metadata": {},
   "outputs": [],
   "source": [
    "C = valid_bg_pdf/(valid_bg_pdf+valid_fg_pdf)"
   ]
  },
  {
   "cell_type": "code",
   "execution_count": 93,
   "metadata": {},
   "outputs": [
    {
     "data": {
      "image/png": "[encoded data removed]",
      "text/plain": [
       "<Figure size 640x480 with 1 Axes>"
      ]
     },
     "metadata": {},
     "output_type": "display_data"
    }
   ],
   "source": [
    "cast_to_bg = np.where(C>=0.5)\n",
    "cast_to_fg = np.where(C < 0.5)\n",
    "C[cast_to_bg] = 0\n",
    "C[cast_to_fg] = 1\n",
    "C = np.reshape(C,np.shape(train_mask))\n",
    "plt.imshow(C,cmap=\"inferno\")\n",
    "plt.show()"
   ]
  }
 ],
 "metadata": {
  "kernelspec": {
   "display_name": "Python 3.9.13 ('base')",
   "language": "python",
   "name": "python3"
  },
  "language_info": {
   "codemirror_mode": {
    "name": "ipython",
    "version": 3
   },
   "file_extension": ".py",
   "mimetype": "text/x-python",
   "name": "python",
   "nbconvert_exporter": "python",
   "pygments_lexer": "ipython3",
   "version": "3.9.13"
  },
  "orig_nbformat": 4,
  "vscode": {
   "interpreter": {
    "hash": "8e4aa72a716255919dcbb93c0da856562df5243ffc4390654f19cf6c1c629f42"
   }
  }
 },
 "nbformat": 4,
 "nbformat_minor": 2
}
